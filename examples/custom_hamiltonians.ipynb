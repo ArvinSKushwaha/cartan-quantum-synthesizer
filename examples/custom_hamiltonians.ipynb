{
 "cells": [
  {
   "cell_type": "markdown",
   "source": [
    "# Example File:\r\n",
    "In this package, we show three examples: \r\n",
    "<ol>\r\n",
    "    <li>4 site XY model</li>\r\n",
    "    <li>4 site Transverse Field XY model with random coefficients</li>\r\n",
    "    <li><b> Custom Hamiltonian from OpenFermion </b> </li>\r\n",
    "</ol>"
   ],
   "metadata": {}
  },
  {
   "cell_type": "markdown",
   "source": [
    "## Clone and Install The Repo via command line:\r\n",
    "```\r\n",
    "git clone https://github.com/kemperlab/cartan-quantum-synthesizer.git <br />\r\n",
    "  \r\n",
    "cd ./cartan-quantum-synthesizer/ <br />\r\n",
    "  \r\n",
    "pip install . <br />\r\n",
    "````\r\n"
   ],
   "metadata": {}
  },
  {
   "cell_type": "markdown",
   "source": [
    "# Building Custom Hamiltonians\r\n",
    "In this example, we will use OpenFermion to generate a Hubbard Model Hamiltonian, then use the Jordan-Wigner methods of OpenFermion and some custom functions to feed the output into the Cartan-Quantum-Synthesizer package"
   ],
   "metadata": {}
  },
  {
   "cell_type": "markdown",
   "source": [
    "## Step 1: Build the Hamiltonian in OpenFermion"
   ],
   "metadata": {}
  },
  {
   "cell_type": "code",
   "execution_count": 33,
   "source": [
    "from CQS.methods import *\r\n",
    "from CQS.util.IO import tuplesToMatrix\r\n",
    "import openfermion\r\n",
    "from openfermion import FermionOperator\r\n",
    "\r\n",
    "t = 1\r\n",
    "U = 8\r\n",
    "mu = 1\r\n",
    "systemSize = 4 #number of qubits neeed\r\n",
    "#2 site, 1D lattice, indexed as |↑_0↑_1↓_2↓_3>\r\n",
    "#Hopping terms\r\n",
    "H += -t*(FermionOperator('0^ 1') + FermionOperator('1^ 0') + FermionOperator('2^ 3') + FermionOperator('3^ 2'))\r\n",
    "#Coulomb Terms\r\n",
    "H += H + U*(FermionOperator('0^ 0 2^ 2') + FermionOperator('1^ 1 3^ 3'))\r\n",
    "#Chemical Potential\r\n",
    "H + -1* mu*(FermionOperator('0^ 0') + FermionOperator('1^ 1') + FermionOperator('2^ 2') + FermionOperator('3^ 3'))\r\n",
    "print(H)"
   ],
   "outputs": [
    {
     "output_type": "stream",
     "name": "stdout",
     "text": [
      "-1.0 [0^ 0] +\n",
      "8.0 [0^ 0 2^ 2] +\n",
      "-1.0 [0^ 1] +\n",
      "-1.0 [1^ 0] +\n",
      "-1.0 [1^ 1] +\n",
      "8.0 [1^ 1 3^ 3] +\n",
      "-1.0 [2^ 2] +\n",
      "-1.0 [2^ 3] +\n",
      "-1.0 [3^ 2] +\n",
      "-1.0 [3^ 3]\n"
     ]
    }
   ],
   "metadata": {}
  },
  {
   "cell_type": "code",
   "execution_count": 34,
   "source": [
    "#Jordan Wigner Transform\r\n",
    "HPauli = openfermion.jordan_wigner(H)\r\n",
    "print(HPauli)\r\n"
   ],
   "outputs": [
    {
     "output_type": "stream",
     "name": "stdout",
     "text": [
      "(2+0j) [] +\n",
      "(-0.5+0j) [X0 X1] +\n",
      "(-0.5+0j) [Y0 Y1] +\n",
      "(-1.5+0j) [Z0] +\n",
      "(2+0j) [Z0 Z2] +\n",
      "(-1.5+0j) [Z1] +\n",
      "(2+0j) [Z1 Z3] +\n",
      "(-0.5+0j) [X2 X3] +\n",
      "(-0.5+0j) [Y2 Y3] +\n",
      "(-1.5+0j) [Z2] +\n",
      "(-1.5+0j) [Z3]\n"
     ]
    }
   ],
   "metadata": {}
  },
  {
   "cell_type": "code",
   "execution_count": 35,
   "source": [
    "#Custom Function to convert OpenFermion operators to a format readable by CQS:\r\n",
    "#Feel free to use or modify this code, but it is not built into the CQS package\r\n",
    "def OpenFermionToCQS(H, systemSize):\r\n",
    "        \"\"\"\r\n",
    "        Converts the Operators to a list of (PauliStrings)\r\n",
    "\r\n",
    "        Args:\r\n",
    "            H(obj): The OpenFermion Operator\r\n",
    "            systemSize (int): The number of qubits in the system\r\n",
    "        \"\"\"\r\n",
    "        stringToTuple  = {   \r\n",
    "                        'X': 1,\r\n",
    "                        'Y': 2,\r\n",
    "                        'Z': 3\r\n",
    "                    }\r\n",
    "        opList = []\r\n",
    "        coList = [] \r\n",
    "        for op in H.terms.keys(): #Pulls the operator out of the QubitOperator format\r\n",
    "            coList.append(H.terms[op])\r\n",
    "            opIndexList = []\r\n",
    "            opTypeDict = {}\r\n",
    "            tempTuple = ()\r\n",
    "            for (opIndex, opType) in op:\r\n",
    "                opIndexList.append(opIndex)\r\n",
    "                opTypeDict[opIndex] = opType\r\n",
    "            for index in range(systemSize):\r\n",
    "                if index in opIndexList:\r\n",
    "                    tempTuple += (stringToTuple[opTypeDict[index]],)\r\n",
    "                else:\r\n",
    "                    tempTuple += (0,)\r\n",
    "            opList.append(tempTuple)\r\n",
    "        return (coList, opList)\r\n",
    "    \r\n",
    "#The new format looks like:\r\n",
    "print(OpenFermionToCQS(HPauli, systemSize))"
   ],
   "outputs": [
    {
     "output_type": "stream",
     "name": "stdout",
     "text": [
      "([(-0.5+0j), (-0.5+0j), (-0.5+0j), (-0.5+0j), (2+0j), (-1.5+0j), (-1.5+0j), (2+0j), (-1.5+0j), (-1.5+0j), (2+0j)], [(2, 2, 0, 0), (1, 1, 0, 0), (0, 0, 2, 2), (0, 0, 1, 1), (0, 0, 0, 0), (0, 0, 3, 0), (3, 0, 0, 0), (3, 0, 3, 0), (0, 0, 0, 3), (0, 3, 0, 0), (0, 3, 0, 3)])\n"
     ]
    }
   ],
   "metadata": {}
  },
  {
   "cell_type": "code",
   "execution_count": 36,
   "source": [
    "#Now, we can put all this together:\r\n",
    "\r\n",
    "#Step 1: Create an Empty Hamiltonian Object\r\n",
    "HubbardH = Hamiltonian(systemSize)\r\n",
    "\r\n",
    "#Use Hamiltonian.addTerms to build the Hubbard model Hamiltonian:\r\n",
    "HubbardH.addTerms(OpenFermionToCQS(HPauli, systemSize))\r\n",
    "#This gives:\r\n",
    "HubbardH.getHamiltonian(type='printText')\r\n",
    "#There's an IIII term we would rather not deal with, so we can remove it like this:\r\n",
    "HubbardH.removeTerm((0,0,0,0))\r\n",
    "#This gives:\r\n",
    "print('Idenity/Global Phase removed:')\r\n",
    "HubbardH.getHamiltonian(type='printText')\r\n",
    "\r\n",
    "#Be careful choosing an involution, because it might now decompose such that the Hamiltonian is in M:\r\n",
    "try:\r\n",
    "    HubbardC = Cartan(HubbardH)\r\n",
    "except Exception as e:\r\n",
    "    print('Default Even/Odd Involution does not work:')\r\n",
    "    print(e)\r\n",
    "print('countY does work through. g = ')\r\n",
    "HubbardC = Cartan(HubbardH, involution='countY')\r\n",
    "print(HubbardC.g)\r\n",
    "\r\n"
   ],
   "outputs": [
    {
     "output_type": "stream",
     "name": "stdout",
     "text": [
      "(-0.5+0j) * YYII\n",
      "(-0.5+0j) * XXII\n",
      "(-0.5+0j) * IIYY\n",
      "(-0.5+0j) * IIXX\n",
      "(2+0j) * IIII\n",
      "(-1.5+0j) * IIZI\n",
      "(-1.5+0j) * ZIII\n",
      "(2+0j) * ZIZI\n",
      "(-1.5+0j) * IIIZ\n",
      "(-1.5+0j) * IZII\n",
      "(2+0j) * IZIZ\n",
      "Idenity/Global Phase removed:\n",
      "(-0.5+0j) * YYII\n",
      "(-0.5+0j) * XXII\n",
      "(-0.5+0j) * IIYY\n",
      "(-0.5+0j) * IIXX\n",
      "(-1.5+0j) * IIZI\n",
      "(-1.5+0j) * ZIII\n",
      "(2+0j) * ZIZI\n",
      "(-1.5+0j) * IIIZ\n",
      "(-1.5+0j) * IZII\n",
      "(2+0j) * IZIZ\n",
      "Default Even/Odd Involution does not work:\n",
      "Invalid Involution. Please Choose an involution such that H ⊂ m\n",
      "countY does work through. g = \n",
      "[(1, 2, 0, 0), (1, 2, 3, 0), (2, 1, 0, 0), (2, 1, 0, 3), (2, 1, 3, 0), (1, 2, 0, 3), (0, 0, 1, 2), (3, 0, 1, 2), (0, 0, 2, 1), (0, 3, 2, 1), (3, 0, 2, 1), (0, 3, 1, 2), (2, 2, 1, 2), (1, 1, 2, 1), (2, 2, 2, 1), (1, 1, 1, 2), (1, 2, 2, 2), (1, 2, 1, 1), (2, 1, 1, 1), (2, 1, 2, 2), (3, 3, 2, 1), (3, 3, 1, 2), (2, 1, 3, 3), (1, 2, 3, 3), (2, 2, 0, 0), (1, 1, 0, 0), (0, 0, 2, 2), (0, 0, 1, 1), (1, 1, 3, 3), (2, 2, 3, 3), (3, 3, 1, 1), (3, 3, 2, 2), (2, 2, 2, 2), (1, 1, 1, 1), (2, 2, 1, 1), (1, 1, 2, 2), (0, 0, 3, 0), (3, 0, 0, 0), (3, 0, 3, 0), (0, 0, 0, 3), (0, 3, 0, 0), (0, 3, 0, 3), (0, 3, 3, 0), (3, 0, 0, 3), (1, 2, 1, 2), (2, 1, 2, 1), (1, 2, 2, 1), (2, 1, 1, 2), (3, 0, 2, 2), (0, 3, 1, 1), (3, 0, 1, 1), (0, 3, 2, 2), (2, 2, 3, 0), (1, 1, 0, 3), (1, 1, 3, 0), (2, 2, 0, 3), (0, 3, 3, 3), (3, 0, 3, 3), (3, 3, 0, 3), (3, 3, 3, 0)]\n"
     ]
    }
   ],
   "metadata": {}
  },
  {
   "cell_type": "code",
   "execution_count": null,
   "source": [],
   "outputs": [],
   "metadata": {}
  }
 ],
 "metadata": {
  "orig_nbformat": 4,
  "language_info": {
   "name": "python"
  }
 },
 "nbformat": 4,
 "nbformat_minor": 2
}