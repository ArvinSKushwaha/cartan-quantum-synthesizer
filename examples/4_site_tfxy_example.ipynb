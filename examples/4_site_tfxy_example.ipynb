{
 "metadata": {
  "language_info": {
   "codemirror_mode": {
    "name": "ipython",
    "version": 3
   },
   "file_extension": ".py",
   "mimetype": "text/x-python",
   "name": "python",
   "nbconvert_exporter": "python",
   "pygments_lexer": "ipython3",
   "version": "3.8.8"
  },
  "orig_nbformat": 4,
  "kernelspec": {
   "name": "python3",
   "display_name": "Python 3.8.8 64-bit ('base': conda)"
  },
  "interpreter": {
   "hash": "2b5c626533e2594b754390c51caf953453b41ea808779d0c5651a27b8a29850d"
  }
 },
 "nbformat": 4,
 "nbformat_minor": 2,
 "cells": [
  {
   "source": [
    "# Example File:\n",
    "In this package, we show two examples: \n",
    "<ol>\n",
    "    <li>4 site XY model</li>\n",
    "    <li><b>4 site Transverse Field XY model with random coefficients</b></li> \n",
    "</ol>"
   ],
   "cell_type": "markdown",
   "metadata": {}
  },
  {
   "source": [
    "## Clone and Install The Repo via command line:\n",
    "<code>\n",
    "git clone https://github.com/kemperlab/cartan-quantum-synthesizer.git <br />\n",
    "  \n",
    "cd ./cartan-quantum-synthesizer/ <br />\n",
    "  \n",
    "pip install . <br />\n",
    "</code>\n"
   ],
   "cell_type": "markdown",
   "metadata": {}
  },
  {
   "source": [
    "## Import the Classes"
   ],
   "cell_type": "markdown",
   "metadata": {}
  },
  {
   "cell_type": "code",
   "execution_count": 3,
   "metadata": {},
   "outputs": [],
   "source": [
    "from CQS.methods import *\n",
    "#We will also use:\n",
    "import numpy as np"
   ]
  },
  {
   "source": [
    "# 4 Site TFXY Model\n",
    "\n",
    "We first define our relevant variables, then create the three objects using default settings"
   ],
   "cell_type": "markdown",
   "metadata": {}
  },
  {
   "cell_type": "code",
   "execution_count": 4,
   "metadata": {},
   "outputs": [],
   "source": [
    "#Define the system parameters\n",
    "sites = 4\n",
    "model = 'tfxy'\n",
    "coefficient = 1\n",
    "# This will be used to generate the Hamiltonian 1*(XXII + YYII + IXXI + IYYI + IIXX + IIYY + ZIII + IZII + IIZI + IIIZ)\n",
    "modelTuple = [(coefficient, model)]\n",
    "# In this case, we actually want random coefficients, except we also want to know the order of the Hamiltonian terms, and the number of random variables we need. So, we first generate temporary Hamiltonian to learn a out the terms that are generated"
   ]
  },
  {
   "source": [
    "### Hamiltonian:\n",
    "\n",
    "Now, we can create a Hamiltonian object. The generates the information about the Hamiltonian for the system to be simulated\n"
   ],
   "cell_type": "markdown",
   "metadata": {}
  },
  {
   "cell_type": "code",
   "execution_count": 6,
   "metadata": {},
   "outputs": [
    {
     "output_type": "stream",
     "name": "stdout",
     "text": [
      "Includes IXYZ:\n0.06752829196304311 * ZIII\n0.5773556314946214 * IZII\n0.11533169218020978 * IIZI\n0.07408297496364624 * IIIZ\n0.7889423896265074 * XXII\n0.5784312595495646 * YYII\n0.6167967813514346 * IXXI\n0.3158544125488427 * IYYI\n0.48193560905822996 * IIXX\n0.04456146877757938 * IIYY\n1 * IXYZ\nRemoves IXYZ:\n0.06752829196304311 * ZIII\n0.5773556314946214 * IZII\n0.11533169218020978 * IIZI\n0.07408297496364624 * IIIZ\n0.7889423896265074 * XXII\n0.5784312595495646 * YYII\n0.6167967813514346 * IXXI\n0.3158544125488427 * IYYI\n0.48193560905822996 * IIXX\n0.04456146877757938 * IIYY\nThe dictionary has been added\n0.06752829196304311 * ZIII\n0.5773556314946214 * IZII\n0.11533169218020978 * IIZI\n0.07408297496364624 * IIIZ\n2.7889423896265075 * XXII\n0.5784312595495646 * YYII\n0.6167967813514346 * IXXI\n0.3158544125488427 * IYYI\n0.48193560905822996 * IIXX\n0.04456146877757938 * IIYY\n3 * YXYI\n(1, 1, 0, 0)\n(2, 1, 2, 0)\nThe dictionary has been removed\n0.06752829196304311 * ZIII\n0.5773556314946214 * IZII\n0.11533169218020978 * IIZI\n0.07408297496364624 * IIIZ\n0.5784312595495646 * YYII\n0.6167967813514346 * IXXI\n0.3158544125488427 * IYYI\n0.48193560905822996 * IIXX\n0.04456146877757938 * IIYY\n"
     ]
    }
   ],
   "source": [
    "tfxyH = Hamiltonian(sites, name=modelTuple)\n",
    "# The Hamiltonian formats Pauli Strings using Tuples. For Example, XXII is represented by (1, 1, 0, 0) and IXYZX would be (0, 1, 2, 3, 1)\n",
    "\n",
    "# We can count the number of terms as:\n",
    "Hlen = len(tfxyH.HCoefs)\n",
    "\n",
    "# And generate a list of random numbers via:\n",
    "HRandCo = [np.random.rand(1)[0] for i in range(Hlen)]\n",
    "\n",
    "# Then generate a new Hamiltonian objects as:\n",
    "modelTuple = [(HRandCo, model)]\n",
    "tfxyH = Hamiltonian(sites, name=modelTuple)\n",
    "\n",
    "# You can add and remove terms using:\n",
    "tfxyH.addTerms((1, (0,1,2,3)))\n",
    "print('Includes IXYZ:')\n",
    "tfxyH.getHamiltonian(type='printText')\n",
    "tfxyH.removeTerm((0,1,2,3))\n",
    "print('Removes IXYZ:')\n",
    "tfxyH.getHamiltonian(type='printText')\n",
    "\n",
    "#It is possible to add many terms at once using addTerms by passing a list of coefficients and Tuples like .addterms(([coefficients],[PauliStrings])). This may be useful if you generate the Hamiltonian using a different package or manually. However, the PauliStrings terms must first be converted to the Tuple format useable by this package: (PauliString)\n",
    "#For Example:\n",
    "HDict = {\n",
    "    (1,1,0,0): 2,\n",
    "    (2,1,2,0): 3\n",
    "}\n",
    "tfxyH.addTerms(([i for i in HDict.values()], [i for i in HDict.keys()]))\n",
    "print(\"The dictionary has been added\")\n",
    "tfxyH.getHamiltonian(type='printText')\n",
    "for key in HDict.keys():\n",
    "    print(key)\n",
    "    tfxyH.removeTerm(key)\n",
    "print(\"The dictionary has been removed\")\n",
    "tfxyH.getHamiltonian(type='printText')\n",
    "#Notice, the full XXII term was removed, not just the coefficient in the tuple. This is the expected behavior. If the user does not want to fully remove the term of the Hamiltonian, it is possible to pull the information about the tuple and coefficient using tfxyH.HCoefs.index() and then pulling out the coefficient and tuple pair to add it back later after the term is removed. \n",
    "\n"
   ]
  },
  {
   "source": [
    "### Cartan:\n",
    "\n",
    "Pass the Hamiltonian object to the Cartan Object. It will perform a Cartan involution on the Hamiltonian Algebra generated by the Hamiltonain terms"
   ],
   "cell_type": "markdown",
   "metadata": {}
  },
  {
   "cell_type": "code",
   "execution_count": 9,
   "metadata": {},
   "outputs": [
    {
     "output_type": "stream",
     "name": "stdout",
     "text": [
      "Even Odd Decomposition:\nHamiltonian Algebra:\n[(3, 0, 0, 0), (0, 3, 0, 0), (0, 0, 3, 0), (0, 0, 0, 3), (2, 3, 1, 0), (0, 1, 3, 2), (0, 2, 3, 1), (1, 3, 2, 0), (1, 3, 1, 0), (2, 3, 2, 0), (0, 2, 3, 2), (0, 1, 3, 1), (2, 2, 0, 0), (0, 2, 2, 0), (0, 0, 2, 2), (1, 3, 3, 1), (0, 1, 1, 0), (0, 0, 1, 1), (1, 1, 0, 0), (1, 2, 0, 0), (2, 1, 0, 0), (0, 2, 1, 0), (0, 1, 2, 0), (0, 0, 2, 1), (0, 0, 1, 2), (2, 3, 3, 2), (1, 3, 3, 2), (2, 3, 3, 1)]\nk:\n[(3, 0, 0, 0), (0, 3, 0, 0), (0, 0, 3, 0), (0, 0, 0, 3), (2, 3, 1, 0), (0, 1, 3, 2), (0, 2, 3, 1), (1, 3, 2, 0), (1, 3, 1, 0), (2, 3, 2, 0), (0, 2, 3, 2), (0, 1, 3, 1)]\nh:\n[(2, 2, 0, 0), (0, 2, 2, 0), (0, 0, 2, 2), (1, 3, 3, 1)]\nCountY Decomposition:\nHamiltonian Algebra:\n[(2, 3, 1, 0), (0, 1, 3, 2), (0, 2, 3, 1), (1, 3, 2, 0), (1, 2, 0, 0), (2, 1, 0, 0), (0, 2, 1, 0), (0, 1, 2, 0), (0, 0, 2, 1), (0, 0, 1, 2), (1, 3, 3, 2), (2, 3, 3, 1), (3, 0, 0, 0), (0, 3, 0, 0), (0, 0, 3, 0), (0, 0, 0, 3), (1, 3, 1, 0), (2, 3, 2, 0), (0, 2, 3, 2), (0, 1, 3, 1), (2, 2, 0, 0), (0, 2, 2, 0), (0, 0, 2, 2), (1, 3, 3, 1), (0, 1, 1, 0), (0, 0, 1, 1), (1, 1, 0, 0), (2, 3, 3, 2)]\nk:\n[(2, 3, 1, 0), (0, 1, 3, 2), (0, 2, 3, 1), (1, 3, 2, 0), (1, 2, 0, 0), (2, 1, 0, 0), (0, 2, 1, 0), (0, 1, 2, 0), (0, 0, 2, 1), (0, 0, 1, 2), (1, 3, 3, 2), (2, 3, 3, 1)]\nh:\n[(3, 0, 0, 0), (0, 3, 0, 0), (0, 0, 3, 0), (0, 0, 0, 3)]\n"
     ]
    }
   ],
   "source": [
    "# This defaults to the evenOdd Decompostion. In this case, it is not the best involution\n",
    "tfxyC = Cartan(tfxyH)\n",
    "print(\"Even Odd Decomposition:\")\n",
    "print('Hamiltonian Algebra:')\n",
    "print(tfxyC.g)\n",
    "print('k:')\n",
    "print(tfxyC.k)\n",
    "print('h:')\n",
    "print(tfxyC.h)\n",
    "# We change the involution to one that partitions based on Y instead of I:\n",
    "tfxyC.decompose(involutionName='countY')\n",
    "print(\"CountY Decomposition:\")\n",
    "print('Hamiltonian Algebra:')\n",
    "print(tfxyC.g)\n",
    "print('k:')\n",
    "print(tfxyC.k)\n",
    "print('h:')\n",
    "print(tfxyC.h)\n",
    "\n",
    "# Notice that while h and k are completely different, g is rearranged but contains the same terms\n",
    "\n"
   ]
  },
  {
   "cell_type": "code",
   "execution_count": 10,
   "metadata": {},
   "outputs": [
    {
     "output_type": "stream",
     "name": "stdout",
     "text": [
      "m terms:\n[(3, 0, 0, 0), (0, 3, 0, 0), (0, 0, 3, 0), (0, 0, 0, 3), (1, 3, 1, 0), (2, 3, 2, 0), (0, 2, 3, 2), (0, 1, 3, 1), (2, 2, 0, 0), (0, 2, 2, 0), (0, 0, 2, 2), (1, 3, 3, 1), (0, 1, 1, 0), (0, 0, 1, 1), (1, 1, 0, 0), (2, 3, 3, 2)]\nNew Ordered Hamiltonian Algebra:\n[(2, 3, 1, 0), (0, 1, 3, 2), (0, 2, 3, 1), (1, 3, 2, 0), (1, 2, 0, 0), (2, 1, 0, 0), (0, 2, 1, 0), (0, 1, 2, 0), (0, 0, 2, 1), (0, 0, 1, 2), (1, 3, 3, 2), (2, 3, 3, 1), (0, 1, 1, 0), (0, 2, 2, 0), (3, 0, 0, 0), (0, 0, 0, 3), (0, 3, 0, 0), (0, 0, 3, 0), (1, 3, 1, 0), (2, 3, 2, 0), (0, 2, 3, 2), (0, 1, 3, 1), (2, 2, 0, 0), (0, 0, 2, 2), (1, 3, 3, 1), (0, 0, 1, 1), (1, 1, 0, 0), (2, 3, 3, 2)]\nNew h:\n[(0, 1, 1, 0), (0, 2, 2, 0), (3, 0, 0, 0), (0, 0, 0, 3)]\n"
     ]
    }
   ],
   "source": [
    "#To change the terms in the Cartan Subalgebra h, pass a list of commuting terms that exist in m. Let's change h back to what we had with the EvenOdd involtion (XXII and YYII terms):\n",
    "print('m terms:')\n",
    "print(tfxyC.m)\n",
    "tfxyC.subAlgebra(seedList=[(0,1,1,0),(0,2,2,0)])\n",
    "print('New Ordered Hamiltonian Algebra:')\n",
    "print(tfxyC.g)\n",
    "print('New h:')\n",
    "print(tfxyC.h)\n"
   ]
  },
  {
   "source": [
    "### Find Parameters:\n",
    "\n",
    "Finding the parameters is the expensive part of the package. The default method is to use gradient decent via BFGS optimization in the `scipy.otpimize` package. "
   ],
   "cell_type": "markdown",
   "metadata": {}
  },
  {
   "cell_type": "code",
   "execution_count": 11,
   "metadata": {},
   "outputs": [
    {
     "output_type": "stream",
     "name": "stdout",
     "text": [
      "Optimization terminated successfully.\n         Current function value: -3.051922\n         Iterations: 65\n         Function evaluations: 74\n         Gradient evaluations: 74\n--- 3.176041841506958 seconds ---\nOptimization Error:\n1.8681660641104355e-11\nPrinting Results:\nK elements \n\n-0.8309870144241129 *YZXI\n1.5092703725478445  *IXZY\n1.3123155537134423  *IYZX\n-0.9683771353840325 *XZYI\n-0.3455168533423837 *XYII\n0.11613739232498345 *YXII\n-0.5870500822489488 *IYXI\n-0.9672035395129405 *IXYI\n-1.325933929903902  *IIYX\n0.05900697919686858 *IIXY\n-0.18536428652656278*XZZY\n0.08815456949293426 *YZZX\n\n h elements: \n \n(-2.1864977060835296+0j) *IXXI\n(-0.2722218432231376+0j) *IYYI\n(-1.3216438614948527+0j) *ZIII\n(-0.6012565389575814+0j) *IIIZ\nNormed Error |KHK - Exact|:\n1.3640714052785892e-05\n"
     ]
    }
   ],
   "source": [
    "#Generate the Parameters via:\n",
    "tfxyP = FindParameters(tfxyC)\n",
    "\n",
    "#printResult() returns the parameters, the error produced by removing invalid terms, and the normed difference of the Cartan and the exact matrix exponentiation. \n",
    "tfxyP.printResult()"
   ]
  },
  {
   "cell_type": "code",
   "execution_count": 12,
   "metadata": {},
   "outputs": [
    {
     "output_type": "stream",
     "name": "stdout",
     "text": [
      "[(0, 1, 1, 0), (0, 2, 2, 0), (3, 0, 0, 0), (0, 0, 0, 3)]\n[(-2.1864977060835296+0j), (-0.2722218432231376+0j), (-1.3216438614948527+0j), (-0.6012565389575814+0j)]\n[(2, 3, 1, 0), (0, 1, 3, 2), (0, 2, 3, 1), (1, 3, 2, 0), (1, 2, 0, 0), (2, 1, 0, 0), (0, 2, 1, 0), (0, 1, 2, 0), (0, 0, 2, 1), (0, 0, 1, 2), (1, 3, 3, 2), (2, 3, 3, 1)]\n[-0.83098701  1.50927037  1.31231555 -0.96837714 -0.34551685  0.11613739\n -0.58705008 -0.96720354 -1.32593393  0.05900698 -0.18536429  0.08815457]\n"
     ]
    }
   ],
   "source": [
    "#The results of the optimization are stored as\n",
    "print(tfxyP.cartan.h)\n",
    "print(tfxyP.hCoefs)\n",
    "\n",
    "print(tfxyP.cartan.k)\n",
    "print(tfxyP.kCoefs)\n"
   ]
  },
  {
   "cell_type": "code",
   "execution_count": null,
   "metadata": {},
   "outputs": [],
   "source": []
  }
 ]
}