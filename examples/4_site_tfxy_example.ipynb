{
 "metadata": {
  "language_info": {
   "codemirror_mode": {
    "name": "ipython",
    "version": 3
   },
   "file_extension": ".py",
   "mimetype": "text/x-python",
   "name": "python",
   "nbconvert_exporter": "python",
   "pygments_lexer": "ipython3",
   "version": "3.8.8"
  },
  "orig_nbformat": 4,
  "kernelspec": {
   "name": "python3",
   "display_name": "Python 3.8.8 64-bit ('base': conda)"
  },
  "interpreter": {
   "hash": "2b5c626533e2594b754390c51caf953453b41ea808779d0c5651a27b8a29850d"
  }
 },
 "nbformat": 4,
 "nbformat_minor": 2,
 "cells": [
  {
   "cell_type": "markdown",
   "source": [
    "# Example File:\r\n",
    "In this package, we show three examples: \r\n",
    "<ol>\r\n",
    "    <li>4 site XY model</li>\r\n",
    "    <li><b>4 site Transverse Field XY model with random coefficients</b></li>\r\n",
    "    <li> Custom Hamiltonian from OpenFermion </li>\r\n",
    "</ol>"
   ],
   "metadata": {}
  },
  {
   "cell_type": "markdown",
   "source": [
    "## Clone and Install The Repo via command line:\r\n",
    "```\r\n",
    "git clone https://github.com/kemperlab/cartan-quantum-synthesizer.git \r\n",
    "  \r\n",
    "cd ./cartan-quantum-synthesizer/ \r\n",
    "  \r\n",
    "pip install . \r\n",
    "```"
   ],
   "metadata": {}
  },
  {
   "cell_type": "markdown",
   "source": [
    "## Import the Classes"
   ],
   "metadata": {}
  },
  {
   "cell_type": "code",
   "execution_count": 54,
   "source": [
    "from CQS.methods import *\r\n",
    "#We will also use:\r\n",
    "import numpy as np"
   ],
   "outputs": [],
   "metadata": {}
  },
  {
   "cell_type": "markdown",
   "source": [
    "# 4 Site TFXY Model\n",
    "\n",
    "We first define our relevant variables, then create the three objects using default settings"
   ],
   "metadata": {}
  },
  {
   "cell_type": "markdown",
   "source": [
    "# Example File:\r\n",
    "In this package, we show three examples: \r\n",
    "<ol>\r\n",
    "    <li>4 site XY model</li>\r\n",
    "    <li><b>4 site Transverse Field XY model with random coefficients</b></li>\r\n",
    "    <li> Custom Hamiltonian from OpenFermion </li>\r\n",
    "</ol>"
   ],
   "metadata": {}
  },
  {
   "cell_type": "markdown",
   "source": [
    "## Clone and Install The Repo via command line:\r\n",
    "```\r\n",
    "git clone https://github.com/kemperlab/cartan-quantum-synthesizer.git \r\n",
    "  \r\n",
    "cd ./cartan-quantum-synthesizer/ \r\n",
    "  \r\n",
    "pip install . \r\n",
    "```\r\n"
   ],
   "metadata": {}
  },
  {
   "cell_type": "markdown",
   "source": [
    "## Import the Classes"
   ],
   "metadata": {}
  },
  {
   "cell_type": "code",
   "execution_count": 55,
   "source": [
    "from CQS.methods import *\r\n",
    "#We will also use:\r\n",
    "import numpy as np"
   ],
   "outputs": [],
   "metadata": {}
  },
  {
   "cell_type": "markdown",
   "source": [
    "# Transverse Field XY Model:\r\n",
    "As an example of usage and customization, we go through the decompositon of the TFXY model used in the paper [Fixed Depth Hamiltonian Simulation via Cartan Decomposition](https://arxiv.org/abs/2104.00728). Note that in the paper only the transverse field is randomized, while in this example the entire Hamiltonian is randomized"
   ],
   "metadata": {}
  },
  {
   "cell_type": "code",
   "execution_count": 56,
   "source": [
    "#Define the system parameters\r\n",
    "sites = 4\r\n",
    "model = 'tfxy'\r\n",
    "coefficient = 1\r\n",
    "# This will be used to generate the Hamiltonian 1*(XXII + YYII + IXXI + IYYI + IIXX + IIYY + ZIII + IZII + IIZI + IIIZ)\r\n",
    "modelTuple = [(coefficient, model)]\r\n",
    "# In this case, we actually want random coefficients, except we also want to know the order of the Hamiltonian terms, and the number of random variables we need. So, we first generate temporary Hamiltonian to learn a out the terms that are generated"
   ],
   "outputs": [],
   "metadata": {}
  },
  {
   "cell_type": "markdown",
   "source": [
    "## Hamiltonian:\r\n",
    "\r\n",
    "Now, we can create a Hamiltonian object. The generates the information about the Hamiltonian for the system to be simulated\r\n"
   ],
   "metadata": {}
  },
  {
   "cell_type": "code",
   "execution_count": 57,
   "source": [
    "tfxyH = Hamiltonian(sites, name=modelTuple)\r\n",
    "# The Hamiltonian formats Pauli Strings using Tuples. For Example, XXII is represented by (1, 1, 0, 0) and IXYZX would be (0, 1, 2, 3, 1)\r\n",
    "\r\n",
    "# We can count the number of terms as:\r\n",
    "Hlen = len(tfxyH.HCoefs)\r\n",
    "\r\n",
    "# And generate a list of random numbers via:\r\n",
    "HRandCo = [np.random.rand(1)[0] for i in range(Hlen)]\r\n",
    "\r\n",
    "# Then generate a new Hamiltonian objects as:\r\n",
    "modelTuple = [(HRandCo, model)]\r\n",
    "tfxyH = Hamiltonian(sites, name=modelTuple)\r\n"
   ],
   "outputs": [],
   "metadata": {}
  },
  {
   "cell_type": "markdown",
   "source": [
    "### Customizing the Hamiltonian"
   ],
   "metadata": {}
  },
  {
   "cell_type": "code",
   "execution_count": 58,
   "source": [
    "# You can add and remove terms using:\r\n",
    "tfxyH.addTerms((1, (0,1,2,3)))\r\n",
    "print('Includes IXYZ:')\r\n",
    "tfxyH.getHamiltonian(type='printText')\r\n",
    "tfxyH.removeTerm((0,1,2,3))\r\n",
    "print('Removes IXYZ:')\r\n",
    "tfxyH.getHamiltonian(type='printText')\r\n",
    "\r\n",
    "#It is possible to add many terms at once using addTerms by passing a list of coefficients and Tuples like .addterms(([coefficients],[PauliStrings])). This may be useful if you generate the Hamiltonian using a different package or manually. However, the PauliStrings terms must first be converted to the Tuple format useable by this package: (PauliString)\r\n",
    "#For Example:\r\n",
    "HDict = {\r\n",
    "    (1,1,0,0): 2,\r\n",
    "    (2,1,2,0): 3\r\n",
    "}\r\n",
    "tfxyH.addTerms(([i for i in HDict.values()], [i for i in HDict.keys()]))\r\n",
    "print(\"The dictionary has been added\")\r\n",
    "tfxyH.getHamiltonian(type='printText')\r\n",
    "for key in HDict.keys():\r\n",
    "    print(key)\r\n",
    "    tfxyH.removeTerm(key)\r\n",
    "print(\"The dictionary has been removed\")\r\n",
    "tfxyH.getHamiltonian(type='printText')\r\n",
    "#Notice, the full XXII term was removed, not just the coefficient in the tuple. This is the expected behavior. If the user does not want to fully remove the term of the Hamiltonian, it is possible to pull the information about the tuple and coefficient using tfxyH.HCoefs.index() and then pulling out the coefficient and tuple pair to add it back later after the term is removed. \r\n",
    "\r\n",
    "#In this case we do care about that XXII term, so we'll add it back:\r\n",
    "tfxyH.addTerms((np.random.rand(1)[0], (1,1,0,0)))\r\n",
    "\r\n",
    "#Finally, we have:\r\n",
    "tfxyH.getHamiltonian(type='printText')"
   ],
   "outputs": [
    {
     "output_type": "stream",
     "name": "stdout",
     "text": [
      "Includes IXYZ:\n",
      "0.5899855256470289 * ZIII\n",
      "0.1077140219420698 * IZII\n",
      "0.7345142800938713 * IIZI\n",
      "0.15074360138194554 * IIIZ\n",
      "0.9983805389781897 * XXII\n",
      "0.06018904314139906 * YYII\n",
      "0.4465036782091626 * IXXI\n",
      "0.22741145709019084 * IYYI\n",
      "0.8562077088113247 * IIXX\n",
      "0.1047913513261679 * IIYY\n",
      "1 * IXYZ\n",
      "Removes IXYZ:\n",
      "0.5899855256470289 * ZIII\n",
      "0.1077140219420698 * IZII\n",
      "0.7345142800938713 * IIZI\n",
      "0.15074360138194554 * IIIZ\n",
      "0.9983805389781897 * XXII\n",
      "0.06018904314139906 * YYII\n",
      "0.4465036782091626 * IXXI\n",
      "0.22741145709019084 * IYYI\n",
      "0.8562077088113247 * IIXX\n",
      "0.1047913513261679 * IIYY\n",
      "The dictionary has been added\n",
      "0.5899855256470289 * ZIII\n",
      "0.1077140219420698 * IZII\n",
      "0.7345142800938713 * IIZI\n",
      "0.15074360138194554 * IIIZ\n",
      "2.9983805389781897 * XXII\n",
      "0.06018904314139906 * YYII\n",
      "0.4465036782091626 * IXXI\n",
      "0.22741145709019084 * IYYI\n",
      "0.8562077088113247 * IIXX\n",
      "0.1047913513261679 * IIYY\n",
      "3 * YXYI\n",
      "(1, 1, 0, 0)\n",
      "(2, 1, 2, 0)\n",
      "The dictionary has been removed\n",
      "0.5899855256470289 * ZIII\n",
      "0.1077140219420698 * IZII\n",
      "0.7345142800938713 * IIZI\n",
      "0.15074360138194554 * IIIZ\n",
      "0.06018904314139906 * YYII\n",
      "0.4465036782091626 * IXXI\n",
      "0.22741145709019084 * IYYI\n",
      "0.8562077088113247 * IIXX\n",
      "0.1047913513261679 * IIYY\n",
      "0.5899855256470289 * ZIII\n",
      "0.1077140219420698 * IZII\n",
      "0.7345142800938713 * IIZI\n",
      "0.15074360138194554 * IIIZ\n",
      "0.06018904314139906 * YYII\n",
      "0.4465036782091626 * IXXI\n",
      "0.22741145709019084 * IYYI\n",
      "0.8562077088113247 * IIXX\n",
      "0.1047913513261679 * IIYY\n",
      "0.35201972954501326 * XXII\n"
     ]
    }
   ],
   "metadata": {}
  },
  {
   "cell_type": "markdown",
   "source": [
    "## Cartan:\r\n",
    "\r\n",
    "Pass the Hamiltonian object to the Cartan Object. It will perform a Cartan involution on the Hamiltonian Algebra generated by the Hamiltonain terms"
   ],
   "metadata": {}
  },
  {
   "cell_type": "code",
   "execution_count": 59,
   "source": [
    "# This defaults to the evenOdd Decomposition. In this case, it is not valid.\r\n",
    "\r\n",
    "try:\r\n",
    "    tfxyC = Cartan(tfxyH)\r\n",
    "except Exception as e:\r\n",
    "    print(e)\r\n",
    "    \r\n",
    "# We change the involution to one that partitions based on Y instead of I:\r\n",
    "tfxyC = Cartan(tfxyH, involution='countY')\r\n",
    "print(\"CountY Decomposition:\")\r\n",
    "print('Hamiltonian Algebra:')\r\n",
    "print(tfxyC.g)\r\n",
    "print('k:')\r\n",
    "print(tfxyC.k)\r\n",
    "print('h:')\r\n",
    "print(tfxyC.h)\r\n",
    "\r\n"
   ],
   "outputs": [
    {
     "output_type": "stream",
     "name": "stdout",
     "text": [
      "Invalid Involution. Please Choose an involution such that H ⊂ m\n",
      "CountY Decomposition:\n",
      "Hamiltonian Algebra:\n",
      "[(1, 2, 0, 0), (2, 1, 0, 0), (0, 2, 1, 0), (0, 1, 2, 0), (0, 0, 2, 1), (0, 0, 1, 2), (2, 3, 1, 0), (0, 1, 3, 2), (0, 2, 3, 1), (1, 3, 2, 0), (1, 3, 3, 2), (2, 3, 3, 1), (3, 0, 0, 0), (0, 3, 0, 0), (0, 0, 3, 0), (0, 0, 0, 3), (2, 2, 0, 0), (0, 1, 1, 0), (0, 2, 2, 0), (0, 0, 1, 1), (0, 0, 2, 2), (1, 1, 0, 0), (1, 3, 1, 0), (2, 3, 2, 0), (0, 2, 3, 2), (0, 1, 3, 1), (2, 3, 3, 2), (1, 3, 3, 1)]\n",
      "k:\n",
      "[(1, 2, 0, 0), (2, 1, 0, 0), (0, 2, 1, 0), (0, 1, 2, 0), (0, 0, 2, 1), (0, 0, 1, 2), (2, 3, 1, 0), (0, 1, 3, 2), (0, 2, 3, 1), (1, 3, 2, 0), (1, 3, 3, 2), (2, 3, 3, 1)]\n",
      "h:\n",
      "[(3, 0, 0, 0), (0, 3, 0, 0), (0, 0, 3, 0), (0, 0, 0, 3)]\n"
     ]
    }
   ],
   "metadata": {}
  },
  {
   "cell_type": "code",
   "execution_count": 60,
   "source": [
    "#To change the terms in the Cartan Subalgebra h, pass a list of commuting terms that exist in m. \r\n",
    "print('m terms:')\r\n",
    "print(tfxyC.m)\r\n",
    "tfxyC.subAlgebra(seedList=[(0,1,1,0),(1,1,0,0)])\r\n",
    "print('New Ordered Hamiltonian Algebra:')\r\n",
    "print(tfxyC.g)\r\n",
    "print('New h:')\r\n",
    "print(tfxyC.h)\r\n",
    "\r\n",
    "#Reset back to default:\r\n",
    "tfxyC.subAlgebra(seedList=[(3,0,0,0),(0,3,0,0)])\r\n"
   ],
   "outputs": [
    {
     "output_type": "stream",
     "name": "stdout",
     "text": [
      "m terms:\n",
      "[(3, 0, 0, 0), (0, 3, 0, 0), (0, 0, 3, 0), (0, 0, 0, 3), (2, 2, 0, 0), (0, 1, 1, 0), (0, 2, 2, 0), (0, 0, 1, 1), (0, 0, 2, 2), (1, 1, 0, 0), (1, 3, 1, 0), (2, 3, 2, 0), (0, 2, 3, 2), (0, 1, 3, 1), (2, 3, 3, 2), (1, 3, 3, 1)]\n",
      "New Ordered Hamiltonian Algebra:\n",
      "[(1, 2, 0, 0), (2, 1, 0, 0), (0, 2, 1, 0), (0, 1, 2, 0), (0, 0, 2, 1), (0, 0, 1, 2), (2, 3, 1, 0), (0, 1, 3, 2), (0, 2, 3, 1), (1, 3, 2, 0), (1, 3, 3, 2), (2, 3, 3, 1), (0, 1, 1, 0), (1, 1, 0, 0), (0, 0, 0, 3), (2, 3, 2, 0), (3, 0, 0, 0), (0, 3, 0, 0), (0, 0, 3, 0), (2, 2, 0, 0), (0, 2, 2, 0), (0, 0, 1, 1), (0, 0, 2, 2), (1, 3, 1, 0), (0, 2, 3, 2), (0, 1, 3, 1), (2, 3, 3, 2), (1, 3, 3, 1)]\n",
      "New h:\n",
      "[(0, 1, 1, 0), (1, 1, 0, 0), (0, 0, 0, 3), (2, 3, 2, 0)]\n"
     ]
    }
   ],
   "metadata": {}
  },
  {
   "cell_type": "markdown",
   "source": [
    "## Implementing Appendix E simplifications:\r\n",
    "In Appendix E, we introduce a simplification of the k algebra we call piling. To implement this procedure using the CQS package, we first define a custom function then redefine the k algebra in the Cartan object, like so:"
   ],
   "metadata": {}
  },
  {
   "cell_type": "code",
   "execution_count": 61,
   "source": [
    "def pile(N):\r\n",
    "    k = []\r\n",
    "    for i in range(N-1):\r\n",
    "        for j in range(N-i-1):\r\n",
    "            elem = (0,)*j+(2,1)+(0,)*(N-j-2)\r\n",
    "            k.append(elem)\r\n",
    "            \r\n",
    "            elem = (0,)*j+(1,2)+(0,)*(N-j-2)\r\n",
    "            k.append(elem)\r\n",
    "    return k\r\n",
    "tfxyC.k = pile(tfxyH.sites)\r\n",
    "print('New piled K. This is an equivalent, simplified algebra.')\r\n",
    "print(tfxyC.k)"
   ],
   "outputs": [
    {
     "output_type": "stream",
     "name": "stdout",
     "text": [
      "New piled K. This is an equivalent, simplified algebra.\n",
      "[(2, 1, 0, 0), (1, 2, 0, 0), (0, 2, 1, 0), (0, 1, 2, 0), (0, 0, 2, 1), (0, 0, 1, 2), (2, 1, 0, 0), (1, 2, 0, 0), (0, 2, 1, 0), (0, 1, 2, 0), (2, 1, 0, 0), (1, 2, 0, 0)]\n"
     ]
    }
   ],
   "metadata": {}
  },
  {
   "cell_type": "code",
   "execution_count": null,
   "source": [],
   "outputs": [],
   "metadata": {}
  },
  {
   "cell_type": "markdown",
   "source": [
    "### Find Parameters:\n",
    "\n",
    "Finding the parameters is the expensive part of the package. The default method is to use gradient decent via BFGS optimization in the `scipy.otpimize` package. "
   ],
   "metadata": {}
  },
  {
   "cell_type": "code",
   "execution_count": 62,
   "source": [
    "#Generate the Parameters via:\r\n",
    "tfxyP = FindParameters(tfxyC)\r\n",
    "\r\n",
    "#printResult() returns the parameters, the error produced by removing invalid terms, and the normed difference of the Cartan and the exact matrix exponentiation. \r\n",
    "tfxyP.printResult()"
   ],
   "outputs": [
    {
     "output_type": "stream",
     "name": "stdout",
     "text": [
      "Warning: Desired error not necessarily achieved due to precision loss.\n",
      "         Current function value: -1.148064\n",
      "         Iterations: 4\n",
      "         Function evaluations: 65\n",
      "         Gradient evaluations: 53\n",
      "--- 2.004863739013672 seconds ---\n",
      "Optimization Error:\n",
      "1.071540772737448\n",
      "Printing Results:\n",
      "K elements \n",
      "\n",
      "0.46014648247471296 *YXII\n",
      "-0.048791696563937836*XYII\n",
      "-0.0966106265988898 *IYXI\n",
      "-0.03284945700873765*IXYI\n",
      "0.7183839679698757  *IIYX\n",
      "0.6187408487011098  *IIXY\n",
      "0.6018820076391309  *YXII\n",
      "-0.03156881578208815*XYII\n",
      "-0.18759754903425124*IYXI\n",
      "0.07256002508725892 *IXYI\n",
      "0.512910061317558   *YXII\n",
      "-0.05179935530028888*XYII\n",
      "\n",
      " h elements: \n",
      " \n",
      "(-0.49667737023075614+0j)*ZIII\n",
      "(-0.23503346963451557+0j)*IZII\n",
      "(-0.34822820685015526+0j)*IIZI\n",
      "(-0.7415404760349719+0j) *IIIZ\n",
      "Normed Error |KHK - Exact|:\n",
      "3.6442453020568135\n"
     ]
    }
   ],
   "metadata": {}
  },
  {
   "cell_type": "code",
   "execution_count": 63,
   "source": [
    "#The results of the optimization are stored as\r\n",
    "print(tfxyP.cartan.h)\r\n",
    "print(tfxyP.hCoefs)\r\n",
    "\r\n",
    "print(tfxyP.cartan.k)\r\n",
    "print(tfxyP.kCoefs)\r\n"
   ],
   "outputs": [
    {
     "output_type": "stream",
     "name": "stdout",
     "text": [
      "[(3, 0, 0, 0), (0, 3, 0, 0), (0, 0, 3, 0), (0, 0, 0, 3)]\n",
      "[(-0.49667737023075614+0j), (-0.23503346963451557+0j), (-0.34822820685015526+0j), (-0.7415404760349719+0j)]\n",
      "[(2, 1, 0, 0), (1, 2, 0, 0), (0, 2, 1, 0), (0, 1, 2, 0), (0, 0, 2, 1), (0, 0, 1, 2), (2, 1, 0, 0), (1, 2, 0, 0), (0, 2, 1, 0), (0, 1, 2, 0), (2, 1, 0, 0), (1, 2, 0, 0)]\n",
      "[ 0.46014648 -0.0487917  -0.09661063 -0.03284946  0.71838397  0.61874085\n",
      "  0.60188201 -0.03156882 -0.18759755  0.07256003  0.51291006 -0.05179936]\n"
     ]
    }
   ],
   "metadata": {}
  },
  {
   "cell_type": "code",
   "execution_count": null,
   "source": [],
   "outputs": [],
   "metadata": {}
  }
 ]
}