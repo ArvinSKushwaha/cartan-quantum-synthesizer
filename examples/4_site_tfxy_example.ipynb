{
 "metadata": {
  "language_info": {
   "codemirror_mode": {
    "name": "ipython",
    "version": 3
   },
   "file_extension": ".py",
   "mimetype": "text/x-python",
   "name": "python",
   "nbconvert_exporter": "python",
   "pygments_lexer": "ipython3",
   "version": "3.8.8"
  },
  "orig_nbformat": 4,
  "kernelspec": {
   "name": "python3",
   "display_name": "Python 3.8.8 64-bit ('base': conda)"
  },
  "interpreter": {
   "hash": "2b5c626533e2594b754390c51caf953453b41ea808779d0c5651a27b8a29850d"
  }
 },
 "nbformat": 4,
 "nbformat_minor": 2,
 "cells": [
  {
   "cell_type": "markdown",
   "source": [
    "# Example File:\r\n",
    "In this package, we show three examples: \r\n",
    "<ol>\r\n",
    "    <li>4 site XY model</li>\r\n",
    "    <li><b>4 site Transverse Field XY model with random coefficients</b></li>\r\n",
    "    <li> Custom Hamiltonian from OpenFermion </li>\r\n",
    "</ol>"
   ],
   "metadata": {}
  },
  {
   "cell_type": "markdown",
   "source": [
    "## Clone and Install The Repo via command line:\r\n",
    "```\r\n",
    "git clone https://github.com/kemperlab/cartan-quantum-synthesizer.git \r\n",
    "  \r\n",
    "cd ./cartan-quantum-synthesizer/ \r\n",
    "  \r\n",
    "pip install . \r\n",
    "```"
   ],
   "metadata": {}
  },
  {
   "cell_type": "markdown",
   "source": [
    "## Import the Classes"
   ],
   "metadata": {}
  },
  {
   "cell_type": "code",
   "execution_count": 22,
   "source": [
    "from CQS.methods import *\r\n",
    "#We will also use:\r\n",
    "import numpy as np"
   ],
   "outputs": [],
   "metadata": {}
  },
  {
   "cell_type": "markdown",
   "source": [
    "# 4 Site TFXY Model\n",
    "\n",
    "We first define our relevant variables, then create the three objects using default settings"
   ],
   "metadata": {}
  },
  {
   "cell_type": "markdown",
   "source": [
    "# Example File:\r\n",
    "In this package, we show three examples: \r\n",
    "<ol>\r\n",
    "    <li>4 site XY model</li>\r\n",
    "    <li><b>4 site Transverse Field XY model with random coefficients</b></li>\r\n",
    "    <li> Custom Hamiltonian from OpenFermion </li>\r\n",
    "</ol>"
   ],
   "metadata": {}
  },
  {
   "cell_type": "markdown",
   "source": [
    "## Clone and Install The Repo via command line:\r\n",
    "```\r\n",
    "git clone https://github.com/kemperlab/cartan-quantum-synthesizer.git \r\n",
    "  \r\n",
    "cd ./cartan-quantum-synthesizer/ \r\n",
    "  \r\n",
    "pip install . \r\n",
    "```\r\n"
   ],
   "metadata": {}
  },
  {
   "cell_type": "markdown",
   "source": [
    "## Import the Classes"
   ],
   "metadata": {}
  },
  {
   "cell_type": "code",
   "execution_count": 23,
   "source": [
    "from CQS.methods import *\r\n",
    "#We will also use:\r\n",
    "import numpy as np"
   ],
   "outputs": [],
   "metadata": {}
  },
  {
   "cell_type": "markdown",
   "source": [
    "# Transverse Field XY Model:\r\n",
    "As an example of usage and customization, we go through the decompositon of the TFXY model used in the paper [Fixed Depth Hamiltonian Simulation via Cartan Decomposition](https://arxiv.org/abs/2104.00728). Note that in the paper only the transverse field is randomized, while in this example the entire Hamiltonian is randomized"
   ],
   "metadata": {}
  },
  {
   "cell_type": "code",
   "execution_count": 24,
   "source": [
    "#Define the system parameters\r\n",
    "sites = 4\r\n",
    "model = 'tfxy'\r\n",
    "coefficient = 1\r\n",
    "# This will be used to generate the Hamiltonian 1*(XXII + YYII + IXXI + IYYI + IIXX + IIYY + ZIII + IZII + IIZI + IIIZ)\r\n",
    "modelTuple = [(coefficient, model)]\r\n",
    "# In this case, we actually want random coefficients, except we also want to know the order of the Hamiltonian terms, and the number of random variables we need. So, we first generate temporary Hamiltonian to learn a out the terms that are generated"
   ],
   "outputs": [],
   "metadata": {}
  },
  {
   "cell_type": "markdown",
   "source": [
    "## Hamiltonian:\r\n",
    "\r\n",
    "Now, we can create a Hamiltonian object. The generates the information about the Hamiltonian for the system to be simulated\r\n"
   ],
   "metadata": {}
  },
  {
   "cell_type": "code",
   "execution_count": 25,
   "source": [
    "tfxyH = Hamiltonian(sites, name=modelTuple)\r\n",
    "# The Hamiltonian formats Pauli Strings using Tuples. For Example, XXII is represented by (1, 1, 0, 0) and IXYZX would be (0, 1, 2, 3, 1)\r\n",
    "\r\n",
    "# We can count the number of terms as:\r\n",
    "Hlen = len(tfxyH.HCoefs)\r\n",
    "\r\n",
    "# And generate a list of random numbers via:\r\n",
    "HRandCo = [np.random.rand(1)[0] for i in range(Hlen)]\r\n",
    "\r\n",
    "# Then generate a new Hamiltonian objects as:\r\n",
    "modelTuple = [(HRandCo, model)]\r\n",
    "tfxyH = Hamiltonian(sites, name=modelTuple)\r\n"
   ],
   "outputs": [],
   "metadata": {}
  },
  {
   "cell_type": "markdown",
   "source": [
    "### Customizing the Hamiltonian"
   ],
   "metadata": {}
  },
  {
   "cell_type": "code",
   "execution_count": 26,
   "source": [
    "# You can add and remove terms using:\r\n",
    "tfxyH.addTerms((1, (0,1,2,3)))\r\n",
    "print('Includes IXYZ:')\r\n",
    "tfxyH.getHamiltonian(type='printText')\r\n",
    "tfxyH.removeTerm((0,1,2,3))\r\n",
    "print('Removes IXYZ:')\r\n",
    "tfxyH.getHamiltonian(type='printText')\r\n",
    "\r\n",
    "#It is possible to add many terms at once using addTerms by passing a list of coefficients and Tuples like .addterms(([coefficients],[PauliStrings])). This may be useful if you generate the Hamiltonian using a different package or manually. However, the PauliStrings terms must first be converted to the Tuple format useable by this package: (PauliString)\r\n",
    "#For Example:\r\n",
    "HDict = {\r\n",
    "    (1,1,0,0): 2,\r\n",
    "    (2,1,2,0): 3\r\n",
    "}\r\n",
    "tfxyH.addTerms(([i for i in HDict.values()], [i for i in HDict.keys()]))\r\n",
    "print(\"The dictionary has been added\")\r\n",
    "tfxyH.getHamiltonian(type='printText')\r\n",
    "for key in HDict.keys():\r\n",
    "    print(key)\r\n",
    "    tfxyH.removeTerm(key)\r\n",
    "print(\"The dictionary has been removed\")\r\n",
    "tfxyH.getHamiltonian(type='printText')\r\n",
    "#Notice, the full XXII term was removed, not just the coefficient in the tuple. This is the expected behavior. If the user does not want to fully remove the term of the Hamiltonian, it is possible to pull the information about the tuple and coefficient using tfxyH.HCoefs.index() and then pulling out the coefficient and tuple pair to add it back later after the term is removed. \r\n"
   ],
   "outputs": [
    {
     "output_type": "stream",
     "name": "stdout",
     "text": [
      "Includes IXYZ:\n",
      "0.41242634961741964 * ZIII\n",
      "0.6097666438822943 * IZII\n",
      "0.4240756255744521 * IIZI\n",
      "0.04068400790638049 * IIIZ\n",
      "0.0763413596305671 * XXII\n",
      "0.8391647443167806 * YYII\n",
      "0.0960891809235841 * IXXI\n",
      "0.8232849852815493 * IYYI\n",
      "0.721725973665913 * IIXX\n",
      "0.8031842406231968 * IIYY\n",
      "1 * IXYZ\n",
      "Removes IXYZ:\n",
      "0.41242634961741964 * ZIII\n",
      "0.6097666438822943 * IZII\n",
      "0.4240756255744521 * IIZI\n",
      "0.04068400790638049 * IIIZ\n",
      "0.0763413596305671 * XXII\n",
      "0.8391647443167806 * YYII\n",
      "0.0960891809235841 * IXXI\n",
      "0.8232849852815493 * IYYI\n",
      "0.721725973665913 * IIXX\n",
      "0.8031842406231968 * IIYY\n",
      "The dictionary has been added\n",
      "0.41242634961741964 * ZIII\n",
      "0.6097666438822943 * IZII\n",
      "0.4240756255744521 * IIZI\n",
      "0.04068400790638049 * IIIZ\n",
      "2.0763413596305673 * XXII\n",
      "0.8391647443167806 * YYII\n",
      "0.0960891809235841 * IXXI\n",
      "0.8232849852815493 * IYYI\n",
      "0.721725973665913 * IIXX\n",
      "0.8031842406231968 * IIYY\n",
      "3 * YXYI\n",
      "(1, 1, 0, 0)\n",
      "(2, 1, 2, 0)\n",
      "The dictionary has been removed\n",
      "0.41242634961741964 * ZIII\n",
      "0.6097666438822943 * IZII\n",
      "0.4240756255744521 * IIZI\n",
      "0.04068400790638049 * IIIZ\n",
      "0.8391647443167806 * YYII\n",
      "0.0960891809235841 * IXXI\n",
      "0.8232849852815493 * IYYI\n",
      "0.721725973665913 * IIXX\n",
      "0.8031842406231968 * IIYY\n"
     ]
    }
   ],
   "metadata": {}
  },
  {
   "cell_type": "markdown",
   "source": [
    "## Cartan:\r\n",
    "\r\n",
    "Pass the Hamiltonian object to the Cartan Object. It will perform a Cartan involution on the Hamiltonian Algebra generated by the Hamiltonain terms"
   ],
   "metadata": {}
  },
  {
   "cell_type": "code",
   "execution_count": 27,
   "source": [
    "# This defaults to the evenOdd Decompostion. In this case, it is not valid.,\r\n",
    "try:\r\n",
    "    tfxyC = Cartan(tfxyH)\r\n",
    "except Exception as e:\r\n",
    "    print(e)\r\n",
    "# We change the involution to one that partitions based on Y instead of I:\r\n",
    "tfxyC = Cartan(tfxyH, involution='countY')\r\n",
    "print(\"CountY Decomposition:\")\r\n",
    "print('Hamiltonian Algebra:')\r\n",
    "print(tfxyC.g)\r\n",
    "print('k:')\r\n",
    "print(tfxyC.k)\r\n",
    "print('h:')\r\n",
    "print(tfxyC.h)\r\n",
    "\r\n",
    "# Notice that while h and k are completely different, g is rearranged but contains the same terms\r\n",
    "\r\n"
   ],
   "outputs": [
    {
     "output_type": "stream",
     "name": "stdout",
     "text": [
      "Invalid Involution. Please Choose an involution such that H ⊂ m\n",
      "CountY Decomposition:\n",
      "Hamiltonian Algebra:\n",
      "[(1, 2, 0, 0), (2, 1, 0, 0), (0, 2, 1, 0), (0, 1, 2, 0), (0, 0, 2, 1), (0, 0, 1, 2), (2, 3, 1, 0), (0, 1, 3, 2), (0, 2, 3, 1), (1, 3, 2, 0), (1, 3, 3, 2), (2, 3, 3, 1), (3, 0, 0, 0), (0, 3, 0, 0), (0, 0, 3, 0), (0, 0, 0, 3), (2, 2, 0, 0), (0, 1, 1, 0), (0, 2, 2, 0), (0, 0, 1, 1), (0, 0, 2, 2), (1, 1, 0, 0), (1, 3, 1, 0), (0, 2, 3, 2), (0, 1, 3, 1), (2, 3, 2, 0), (2, 3, 3, 2), (1, 3, 3, 1)]\n",
      "k:\n",
      "[(1, 2, 0, 0), (2, 1, 0, 0), (0, 2, 1, 0), (0, 1, 2, 0), (0, 0, 2, 1), (0, 0, 1, 2), (2, 3, 1, 0), (0, 1, 3, 2), (0, 2, 3, 1), (1, 3, 2, 0), (1, 3, 3, 2), (2, 3, 3, 1)]\n",
      "h:\n",
      "[(3, 0, 0, 0), (0, 3, 0, 0), (0, 0, 3, 0), (0, 0, 0, 3)]\n"
     ]
    }
   ],
   "metadata": {}
  },
  {
   "cell_type": "code",
   "execution_count": 28,
   "source": [
    "#To change the terms in the Cartan Subalgebra h, pass a list of commuting terms that exist in m. Let's change h back to what we had with the EvenOdd involtion (XXII and YYII terms):\r\n",
    "print('m terms:')\r\n",
    "print(tfxyC.m)\r\n",
    "tfxyC.subAlgebra(seedList=[(0,1,1,0),(0,2,2,0)])\r\n",
    "print('New Ordered Hamiltonian Algebra:')\r\n",
    "print(tfxyC.g)\r\n",
    "print('New h:')\r\n",
    "print(tfxyC.h)\r\n"
   ],
   "outputs": [
    {
     "output_type": "stream",
     "name": "stdout",
     "text": [
      "m terms:\n",
      "[(3, 0, 0, 0), (0, 3, 0, 0), (0, 0, 3, 0), (0, 0, 0, 3), (2, 2, 0, 0), (0, 1, 1, 0), (0, 2, 2, 0), (0, 0, 1, 1), (0, 0, 2, 2), (1, 1, 0, 0), (1, 3, 1, 0), (0, 2, 3, 2), (0, 1, 3, 1), (2, 3, 2, 0), (2, 3, 3, 2), (1, 3, 3, 1)]\n",
      "New Ordered Hamiltonian Algebra:\n",
      "[(1, 2, 0, 0), (2, 1, 0, 0), (0, 2, 1, 0), (0, 1, 2, 0), (0, 0, 2, 1), (0, 0, 1, 2), (2, 3, 1, 0), (0, 1, 3, 2), (0, 2, 3, 1), (1, 3, 2, 0), (1, 3, 3, 2), (2, 3, 3, 1), (0, 1, 1, 0), (0, 2, 2, 0), (3, 0, 0, 0), (0, 0, 0, 3), (0, 3, 0, 0), (0, 0, 3, 0), (2, 2, 0, 0), (0, 0, 1, 1), (0, 0, 2, 2), (1, 1, 0, 0), (1, 3, 1, 0), (0, 2, 3, 2), (0, 1, 3, 1), (2, 3, 2, 0), (2, 3, 3, 2), (1, 3, 3, 1)]\n",
      "New h:\n",
      "[(0, 1, 1, 0), (0, 2, 2, 0), (3, 0, 0, 0), (0, 0, 0, 3)]\n"
     ]
    }
   ],
   "metadata": {}
  },
  {
   "cell_type": "markdown",
   "source": [
    "## Implementing Appendix E simplifications:\r\n",
    "In Appendix E, we introduce a simplification of the k algebra we call piling. To implement this procedure using the CQS package, we first define a custom function then redefine the k algebra in the Cartan object, like so:"
   ],
   "metadata": {}
  },
  {
   "cell_type": "code",
   "execution_count": 32,
   "source": [
    "def pile(N):\r\n",
    "    k = []\r\n",
    "    for i in range(N-1):\r\n",
    "        for j in range(N-i-1):\r\n",
    "            elem = (0,)*j+(2,1)+(0,)*(N-j-2)\r\n",
    "            k.append(elem)\r\n",
    "            \r\n",
    "            elem = (0,)*j+(1,2)+(0,)*(N-j-2)\r\n",
    "            k.append(elem)\r\n",
    "    return k\r\n",
    "tfxyC.k = pile(tfxyH.sites)\r\n",
    "print('New piled K. This is an equivalent, simplified algebra.')\r\n",
    "print(tfxyC.k)"
   ],
   "outputs": [
    {
     "output_type": "stream",
     "name": "stdout",
     "text": [
      "New piled K. This is an equivalent, simplified algebra.\n",
      "[(2, 1, 0, 0), (1, 2, 0, 0), (0, 2, 1, 0), (0, 1, 2, 0), (0, 0, 2, 1), (0, 0, 1, 2), (2, 1, 0, 0), (1, 2, 0, 0), (0, 2, 1, 0), (0, 1, 2, 0), (2, 1, 0, 0), (1, 2, 0, 0)]\n"
     ]
    }
   ],
   "metadata": {}
  },
  {
   "cell_type": "code",
   "execution_count": null,
   "source": [],
   "outputs": [],
   "metadata": {}
  },
  {
   "cell_type": "markdown",
   "source": [
    "### Find Parameters:\n",
    "\n",
    "Finding the parameters is the expensive part of the package. The default method is to use gradient decent via BFGS optimization in the `scipy.otpimize` package. "
   ],
   "metadata": {}
  },
  {
   "cell_type": "code",
   "execution_count": 33,
   "source": [
    "#Generate the Parameters via:\r\n",
    "tfxyP = FindParameters(tfxyC)\r\n",
    "\r\n",
    "#printResult() returns the parameters, the error produced by removing invalid terms, and the normed difference of the Cartan and the exact matrix exponentiation. \r\n",
    "tfxyP.printResult()"
   ],
   "outputs": [
    {
     "output_type": "stream",
     "name": "stdout",
     "text": [
      "Warning: Desired error not necessarily achieved due to precision loss.\n",
      "         Current function value: -0.755064\n",
      "         Iterations: 4\n",
      "         Function evaluations: 56\n",
      "         Gradient evaluations: 45\n",
      "--- 1.8559622764587402 seconds ---\n",
      "Optimization Error:\n",
      "1.864208385353693\n",
      "Printing Results:\n",
      "K elements \n",
      "\n",
      "0.04867857857942584 *YXII\n",
      "-0.6050215305831913 *XYII\n",
      "-0.41152354248152695*IYXI\n",
      "-0.4955370638676039 *IXYI\n",
      "-0.9326643066863133 *IIYX\n",
      "0.16254383394934654 *IIXY\n",
      "-0.44449052456180904*YXII\n",
      "-0.9165199656927521 *XYII\n",
      "-0.45201712323080356*IYXI\n",
      "-0.6666971635212514 *IXYI\n",
      "-0.2530961015965278 *YXII\n",
      "-0.05640314741610869*XYII\n",
      "\n",
      " h elements: \n",
      " \n",
      "(-0.2056080297213416+0j) *IXXI\n",
      "(0.4955417049631623+0j)  *IYYI\n",
      "(0.8972437644035639+0j)  *ZIII\n",
      "(-0.5688033477677332+0j) *IIIZ\n",
      "Normed Error |KHK - Exact|:\n",
      "4.096951559397091\n"
     ]
    }
   ],
   "metadata": {}
  },
  {
   "cell_type": "code",
   "execution_count": 34,
   "source": [
    "#The results of the optimization are stored as\r\n",
    "print(tfxyP.cartan.h)\r\n",
    "print(tfxyP.hCoefs)\r\n",
    "\r\n",
    "print(tfxyP.cartan.k)\r\n",
    "print(tfxyP.kCoefs)\r\n"
   ],
   "outputs": [
    {
     "output_type": "stream",
     "name": "stdout",
     "text": [
      "[(0, 1, 1, 0), (0, 2, 2, 0), (3, 0, 0, 0), (0, 0, 0, 3)]\n",
      "[(-0.2056080297213416+0j), (0.4955417049631623+0j), (0.8972437644035639+0j), (-0.5688033477677332+0j)]\n",
      "[(2, 1, 0, 0), (1, 2, 0, 0), (0, 2, 1, 0), (0, 1, 2, 0), (0, 0, 2, 1), (0, 0, 1, 2), (2, 1, 0, 0), (1, 2, 0, 0), (0, 2, 1, 0), (0, 1, 2, 0), (2, 1, 0, 0), (1, 2, 0, 0)]\n",
      "[ 0.04867858 -0.60502153 -0.41152354 -0.49553706 -0.93266431  0.16254383\n",
      " -0.44449052 -0.91651997 -0.45201712 -0.66669716 -0.2530961  -0.05640315]\n"
     ]
    }
   ],
   "metadata": {}
  },
  {
   "cell_type": "code",
   "execution_count": null,
   "source": [],
   "outputs": [],
   "metadata": {}
  }
 ]
}